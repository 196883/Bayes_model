{
  "nbformat": 4,
  "nbformat_minor": 0,
  "metadata": {
    "colab": {
      "name": "GaussProcessRegression.ipynb",
      "version": "0.3.2",
      "provenance": [],
      "collapsed_sections": [],
      "include_colab_link": true
    },
    "kernelspec": {
      "name": "python3",
      "display_name": "Python 3"
    }
  },
  "cells": [
    {
      "cell_type": "markdown",
      "metadata": {
        "id": "view-in-github",
        "colab_type": "text"
      },
      "source": [
        "<a href=\"https://colab.research.google.com/github/196883/Bayes_model/blob/tt_branch/scr/PyMC/GaussProcessRegression.ipynb\" target=\"_parent\"><img src=\"https://colab.research.google.com/assets/colab-badge.svg\" alt=\"Open In Colab\"/></a>"
      ]
    },
    {
      "cell_type": "markdown",
      "metadata": {
        "id": "rqehTS0rEuQB",
        "colab_type": "text"
      },
      "source": [
        "# Gauss Process Regression"
      ]
    },
    {
      "cell_type": "markdown",
      "metadata": {
        "id": "9Fpd6mVuE0ti",
        "colab_type": "text"
      },
      "source": [
        "ガウス過程回帰は、観測点$y$がある潜在函数$f$に従って生成されると仮定したうえで用いられるノンパラメトリックな回帰手法である。\n",
        "\n",
        "ここで、潜在函数$f$は多変数正規分布(Gauss過程)によってモデリングされる:\n",
        "\\begin{equation}\n",
        "f(x) \\sim\\ \\mathcal{GP}(m(x;\\theta),k(x,x';\\theta))\\ .\n",
        "\\end{equation}\n",
        "ここで、$m(x;\\theta)$は平均函数、$k(x,x';\\theta)$は共分散函数である。\n",
        "多くの例において、平均函数はしばしば$0$に設定され、分散だけで説明されることが多い。\n",
        "\n",
        "又、$\\theta$は平均函数、共分散函数の両方に共通するハイパーパラメータであり、周辺尤度最大化によって評価することができる。"
      ]
    },
    {
      "cell_type": "code",
      "metadata": {
        "id": "8Vxkz6DJwmy-",
        "colab_type": "code",
        "colab": {}
      },
      "source": [
        "import pandas as pd\n",
        "import numpy as np\n",
        "import matplotlib.pyplot as plt\n",
        "import matplotlib.cm as cmap\n",
        "import pymc3 as pm\n",
        "import scipy as sp\n",
        "import theano\n",
        "import theano.tensor as tt\n",
        "import theano.tensor.nlinalg\n",
        "import sys, os, io\n",
        "%matplotlib inline\n",
        "cm = cmap.inferno"
      ],
      "execution_count": 0,
      "outputs": []
    },
    {
      "cell_type": "code",
      "metadata": {
        "id": "XatEd6kJMwml",
        "colab_type": "code",
        "colab": {}
      },
      "source": [
        "np.random.seed(777)\n",
        "n = 20\n",
        "X = np.sort(3 * np.random.rand(n))[:,None]\n",
        "\n",
        "with pm.Model() as model:\n",
        "    #f(x)\n",
        "    l_true = 0.3\n",
        "    s2_f_true = 1.0\n",
        "    cov = s2_f_true * pm.gp.cov.ExpQuad(1,l_true)\n",
        "    \n",
        "    #noise, epsilon\n",
        "    s2_n_true = 0.1\n",
        "    K_noise = s2_n_true ** 2 * tt.eye(n)\n",
        "    K = cov(X) + K_noise    "
      ],
      "execution_count": 0,
      "outputs": []
    },
    {
      "cell_type": "markdown",
      "metadata": {
        "id": "Ti47t20xVIn0",
        "colab_type": "text"
      },
      "source": [
        "ここで、潜在函数$f$を実装する際に使用した`pm.gp.cov.ExpQuad`は、Gauss過程の共分散函数$k$を\n",
        "\\begin{equation}\n",
        "k(x,x') = \\exp\\left[-\\dfrac{(x - x')^{2}}{2l^{2}}\\right]\n",
        "\\end{equation}\n",
        "と設定することを意味する。\n",
        "\n",
        "コード中の`l_true`は、代入式を見てもわかるように、上記指数型の共分散函数の分散項に対応する部分を与えており、`s2_f_true`は共分散函数に掛けるスケールファクターの役割を果たす。\n",
        "\n",
        "`theano.tensor.tt.eye(n,m,k)`は対角成分の第$k$成分以外がゼロの$n$行$m$列の行列を表す。"
      ]
    },
    {
      "cell_type": "markdown",
      "metadata": {
        "id": "_cBDW1IdvG7D",
        "colab_type": "text"
      },
      "source": [
        "## Sampleデータの生成とプロット"
      ]
    },
    {
      "cell_type": "code",
      "metadata": {
        "id": "fQ2z5FdXp3-V",
        "colab_type": "code",
        "colab": {}
      },
      "source": [
        "#指定したハイパーパラメータに対し、共分散を評価する(20次元のベクトル)\n",
        "K = theano.function([], cov(X) + K_noise)()\n",
        "\n",
        "#多重正規乱数を生成する\n",
        "y = np.random.multivariate_normal(np.zeros(n), K)"
      ],
      "execution_count": 0,
      "outputs": []
    },
    {
      "cell_type": "code",
      "metadata": {
        "id": "2h9FWqbxVqNB",
        "colab_type": "code",
        "colab": {
          "base_uri": "https://localhost:8080/",
          "height": 361
        },
        "outputId": "552c2e05-e45d-4497-a92b-b6ddfd6305ec"
      },
      "source": [
        "#上記疑似データを生成\n",
        "fig = plt.figure(figsize = (14, 5))\n",
        "ax = fig.add_subplot(111)\n",
        "ax.plot(X, y, 'ok', ms = 10)\n",
        "ax.set_ylabel(\"f(x)\")"
      ],
      "execution_count": 15,
      "outputs": [
        {
          "output_type": "execute_result",
          "data": {
            "text/plain": [
              "Text(0, 0.5, 'f(x)')"
            ]
          },
          "metadata": {
            "tags": []
          },
          "execution_count": 15
        },
        {
          "output_type": "display_data",
          "data": {
            "image/png": "[encoded data removed]",
            "text/plain": [
              "<Figure size 1008x360 with 1 Axes>"
            ]
          },
          "metadata": {
            "tags": []
          }
        }
      ]
    },
    {
      "cell_type": "markdown",
      "metadata": {
        "id": "oGjM_OKnvmQ0",
        "colab_type": "text"
      },
      "source": [
        "## 周辺分布(尤度函数)$p(y\\mid X)$について"
      ]
    },
    {
      "cell_type": "markdown",
      "metadata": {
        "id": "_aBf9gKzvux9",
        "colab_type": "text"
      },
      "source": [
        "周辺分布$p(y\\mid X)$は次のように、$p(y\\mid f,X)$と$p(f\\mid X)$を用いて、次のように書くことができる:\n",
        "\\begin{equation}\n",
        "p(y\\mid X) = \\int p(y\\mid f,X)p(f\\mid X)df\\ .\n",
        "\\end{equation}\n",
        "この周辺分布の計算は、次のコードであらわされる:"
      ]
    },
    {
      "cell_type": "code",
      "metadata": {
        "id": "B_5Y-IBHtMhz",
        "colab_type": "code",
        "colab": {}
      },
      "source": [
        "Z = np.linspace(0,3,100)[:,None]  #3までの数字を百分割で生成\n",
        "\n",
        "with pm.Model() as model:\n",
        "    #Gauss過程の定義に使用される共分散函数kに含まれるハイパーパラメータの事前分布\n",
        "    l = pm.Uniform('l', 0, 10)\n",
        "    \n",
        "    #\n",
        "    log_s2_f = pm.Uniform('log_s2_f', lower = -10, upper = 5)\n",
        "    s2_f = pm.Deterministic('s2_f', tt.exp(log_s2_f))\n",
        "    \n",
        "    "
      ],
      "execution_count": 0,
      "outputs": []
    },
    {
      "cell_type": "code",
      "metadata": {
        "id": "QNE5gzgmwkI9",
        "colab_type": "code",
        "colab": {
          "base_uri": "https://localhost:8080/",
          "height": 1777
        },
        "outputId": "a384da32-d56b-4672-b50d-8c84c3164995"
      },
      "source": [
        "Z"
      ],
      "execution_count": 17,
      "outputs": [
        {
          "output_type": "execute_result",
          "data": {
            "text/plain": [
              "array([[0.        ],\n",
              "       [0.03030303],\n",
              "       [0.06060606],\n",
              "       [0.09090909],\n",
              "       [0.12121212],\n",
              "       [0.15151515],\n",
              "       [0.18181818],\n",
              "       [0.21212121],\n",
              "       [0.24242424],\n",
              "       [0.27272727],\n",
              "       [0.3030303 ],\n",
              "       [0.33333333],\n",
              "       [0.36363636],\n",
              "       [0.39393939],\n",
              "       [0.42424242],\n",
              "       [0.45454545],\n",
              "       [0.48484848],\n",
              "       [0.51515152],\n",
              "       [0.54545455],\n",
              "       [0.57575758],\n",
              "       [0.60606061],\n",
              "       [0.63636364],\n",
              "       [0.66666667],\n",
              "       [0.6969697 ],\n",
              "       [0.72727273],\n",
              "       [0.75757576],\n",
              "       [0.78787879],\n",
              "       [0.81818182],\n",
              "       [0.84848485],\n",
              "       [0.87878788],\n",
              "       [0.90909091],\n",
              "       [0.93939394],\n",
              "       [0.96969697],\n",
              "       [1.        ],\n",
              "       [1.03030303],\n",
              "       [1.06060606],\n",
              "       [1.09090909],\n",
              "       [1.12121212],\n",
              "       [1.15151515],\n",
              "       [1.18181818],\n",
              "       [1.21212121],\n",
              "       [1.24242424],\n",
              "       [1.27272727],\n",
              "       [1.3030303 ],\n",
              "       [1.33333333],\n",
              "       [1.36363636],\n",
              "       [1.39393939],\n",
              "       [1.42424242],\n",
              "       [1.45454545],\n",
              "       [1.48484848],\n",
              "       [1.51515152],\n",
              "       [1.54545455],\n",
              "       [1.57575758],\n",
              "       [1.60606061],\n",
              "       [1.63636364],\n",
              "       [1.66666667],\n",
              "       [1.6969697 ],\n",
              "       [1.72727273],\n",
              "       [1.75757576],\n",
              "       [1.78787879],\n",
              "       [1.81818182],\n",
              "       [1.84848485],\n",
              "       [1.87878788],\n",
              "       [1.90909091],\n",
              "       [1.93939394],\n",
              "       [1.96969697],\n",
              "       [2.        ],\n",
              "       [2.03030303],\n",
              "       [2.06060606],\n",
              "       [2.09090909],\n",
              "       [2.12121212],\n",
              "       [2.15151515],\n",
              "       [2.18181818],\n",
              "       [2.21212121],\n",
              "       [2.24242424],\n",
              "       [2.27272727],\n",
              "       [2.3030303 ],\n",
              "       [2.33333333],\n",
              "       [2.36363636],\n",
              "       [2.39393939],\n",
              "       [2.42424242],\n",
              "       [2.45454545],\n",
              "       [2.48484848],\n",
              "       [2.51515152],\n",
              "       [2.54545455],\n",
              "       [2.57575758],\n",
              "       [2.60606061],\n",
              "       [2.63636364],\n",
              "       [2.66666667],\n",
              "       [2.6969697 ],\n",
              "       [2.72727273],\n",
              "       [2.75757576],\n",
              "       [2.78787879],\n",
              "       [2.81818182],\n",
              "       [2.84848485],\n",
              "       [2.87878788],\n",
              "       [2.90909091],\n",
              "       [2.93939394],\n",
              "       [2.96969697],\n",
              "       [3.        ]])"
            ]
          },
          "metadata": {
            "tags": []
          },
          "execution_count": 17
        }
      ]
    }
  ]
}