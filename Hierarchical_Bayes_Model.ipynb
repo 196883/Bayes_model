{
  "nbformat": 4,
  "nbformat_minor": 0,
  "metadata": {
    "colab": {
      "name": "Hierarchical_Bayes_Model.ipynb",
      "version": "0.3.2",
      "provenance": [],
      "collapsed_sections": [],
      "include_colab_link": true
    },
    "kernelspec": {
      "name": "python3",
      "display_name": "Python 3"
    }
  },
  "cells": [
    {
      "cell_type": "markdown",
      "metadata": {
        "id": "view-in-github",
        "colab_type": "text"
      },
      "source": [
        "<a href=\"https://colab.research.google.com/github/196883/Bayes_model/blob/tt_branch/Hierarchical_Bayes_Model.ipynb\" target=\"_parent\"><img src=\"https://colab.research.google.com/assets/colab-badge.svg\" alt=\"Open In Colab\"/></a>"
      ]
    },
    {
      "cell_type": "markdown",
      "metadata": {
        "id": "6p2CmUpwqtdn",
        "colab_type": "text"
      },
      "source": [
        "# Hierarchical Bayes Model"
      ]
    },
    {
      "cell_type": "markdown",
      "metadata": {
        "id": "wJOHtl4sqyCv",
        "colab_type": "text"
      },
      "source": [
        "## Problem"
      ]
    },
    {
      "cell_type": "markdown",
      "metadata": {
        "id": "HoxLJJWbq8Tx",
        "colab_type": "text"
      },
      "source": [
        "1.Fixed one imaginary plant biont, and we'd like to infere how many seeds the palnt biont will have.\n",
        "\n",
        "2.This plant must have 10 ovules.\n",
        "\n",
        "3.All ovules do not mean to be seeds.\n",
        "\n",
        "4.Observing 100 this plant, we'd like to infere the change ratio from ovules to seeds.\n"
      ]
    },
    {
      "cell_type": "markdown",
      "metadata": {
        "id": "eN6UQaPwshHG",
        "colab_type": "text"
      },
      "source": [
        "## Modeling"
      ]
    },
    {
      "cell_type": "markdown",
      "metadata": {
        "id": "7Ou8w984si_2",
        "colab_type": "text"
      },
      "source": [
        "Lets $y$ is the probability that ovules become seeds.\n",
        "This probability can reporesent by using Binary distoribution ${\\rm Bin}$ as following:\n",
        "\n",
        "\\begin{align}\n",
        "p(y|q) &= {\\rm Bin}(y|10,q)\\\\\n",
        "{\\rm Bin}(y|10,q) &= _{10}C_{y}q^{y}(1-q)^{10-y}\n",
        "\\end{align}\n",
        "\n",
        "Here, q is the change ratio from ovules to seeds.\n",
        "If all observation data is independent, the likehood function for observation data is :\n",
        "\n",
        "\\begin{align}\n",
        "p(y_1,\\cdots,y_{100} \\mid q_1,\\cdots,q_{100}) = \\prod^{100}_{i = 1}p(y_{i}\\mid q_{i})\\ .\n",
        "\\end{align}"
      ]
    },
    {
      "cell_type": "markdown",
      "metadata": {
        "id": "_6a9gThusQn-",
        "colab_type": "text"
      },
      "source": [
        "## Code Implimentation"
      ]
    },
    {
      "cell_type": "code",
      "metadata": {
        "id": "f6Mh1C8FtvBD",
        "colab_type": "code",
        "colab": {
          "base_uri": "https://localhost:8080/",
          "height": 121
        },
        "outputId": "6a8ec81b-263f-486b-849b-b193ea147716"
      },
      "source": [
        "from google.colab import drive\n",
        "drive.mount('/content/gdrive')"
      ],
      "execution_count": 1,
      "outputs": [
        {
          "output_type": "stream",
          "text": [
            "Go to this URL in a browser: https://accounts.google.com/o/oauth2/auth?client_id=947318989803-6bn6qk8qdgf4n4g3pfee6491hc0brc4i.apps.googleusercontent.com&redirect_uri=urn%3Aietf%3Awg%3Aoauth%3A2.0%3Aoob&scope=email%20https%3A%2F%2Fwww.googleapis.com%2Fauth%2Fdocs.test%20https%3A%2F%2Fwww.googleapis.com%2Fauth%2Fdrive%20https%3A%2F%2Fwww.googleapis.com%2Fauth%2Fdrive.photos.readonly%20https%3A%2F%2Fwww.googleapis.com%2Fauth%2Fpeopleapi.readonly&response_type=code\n",
            "\n",
            "Enter your authorization code:\n",
            "··········\n",
            "Mounted at /content/gdrive\n"
          ],
          "name": "stdout"
        }
      ]
    },
    {
      "cell_type": "code",
      "metadata": {
        "id": "MJd3iCXDs_zX",
        "colab_type": "code",
        "colab": {}
      },
      "source": [
        "import pandas as pd\n",
        "import matplotlib.pyplot as plt\n",
        "import matplotlib.ticker as tick\n",
        "import numpy as np\n",
        "import pymc3 as pm\n",
        "from scipy import stats\n",
        "import seaborn as sns\n",
        "%matplotlib inline"
      ],
      "execution_count": 0,
      "outputs": []
    },
    {
      "cell_type": "code",
      "metadata": {
        "id": "27AcZVvXvdFH",
        "colab_type": "code",
        "colab": {}
      },
      "source": [
        "df = pd.read_csv('gdrive/My Drive/Colab Notebooks/Bayes_Modeling/Examples/data/d.csv')"
      ],
      "execution_count": 0,
      "outputs": []
    },
    {
      "cell_type": "markdown",
      "metadata": {
        "id": "GwhMNBrTsXT2",
        "colab_type": "text"
      },
      "source": [
        "The data is like following:"
      ]
    },
    {
      "cell_type": "code",
      "metadata": {
        "id": "l9EPHvj2wpzz",
        "colab_type": "code",
        "colab": {
          "base_uri": "https://localhost:8080/",
          "height": 1882
        },
        "outputId": "d7b1ad16-825f-48ad-bdfd-c10dcfa1b806"
      },
      "source": [
        "df"
      ],
      "execution_count": 4,
      "outputs": [
        {
          "output_type": "execute_result",
          "data": {
            "text/html": [
              "<div>\n",
              "<style scoped>\n",
              "    .dataframe tbody tr th:only-of-type {\n",
              "        vertical-align: middle;\n",
              "    }\n",
              "\n",
              "    .dataframe tbody tr th {\n",
              "        vertical-align: top;\n",
              "    }\n",
              "\n",
              "    .dataframe thead th {\n",
              "        text-align: right;\n",
              "    }\n",
              "</style>\n",
              "<table border=\"1\" class=\"dataframe\">\n",
              "  <thead>\n",
              "    <tr style=\"text-align: right;\">\n",
              "      <th></th>\n",
              "      <th>plant.ID</th>\n",
              "      <th>y</th>\n",
              "      <th>alpha</th>\n",
              "    </tr>\n",
              "  </thead>\n",
              "  <tbody>\n",
              "    <tr>\n",
              "      <th>0</th>\n",
              "      <td>1</td>\n",
              "      <td>0</td>\n",
              "      <td>-4.159582</td>\n",
              "    </tr>\n",
              "    <tr>\n",
              "      <th>1</th>\n",
              "      <td>2</td>\n",
              "      <td>0</td>\n",
              "      <td>-3.718362</td>\n",
              "    </tr>\n",
              "    <tr>\n",
              "      <th>2</th>\n",
              "      <td>3</td>\n",
              "      <td>0</td>\n",
              "      <td>-3.069020</td>\n",
              "    </tr>\n",
              "    <tr>\n",
              "      <th>3</th>\n",
              "      <td>4</td>\n",
              "      <td>0</td>\n",
              "      <td>-3.054211</td>\n",
              "    </tr>\n",
              "    <tr>\n",
              "      <th>4</th>\n",
              "      <td>5</td>\n",
              "      <td>0</td>\n",
              "      <td>-2.880656</td>\n",
              "    </tr>\n",
              "    <tr>\n",
              "      <th>5</th>\n",
              "      <td>6</td>\n",
              "      <td>2</td>\n",
              "      <td>-2.705595</td>\n",
              "    </tr>\n",
              "    <tr>\n",
              "      <th>6</th>\n",
              "      <td>7</td>\n",
              "      <td>1</td>\n",
              "      <td>-2.441703</td>\n",
              "    </tr>\n",
              "    <tr>\n",
              "      <th>7</th>\n",
              "      <td>8</td>\n",
              "      <td>1</td>\n",
              "      <td>-2.221327</td>\n",
              "    </tr>\n",
              "    <tr>\n",
              "      <th>8</th>\n",
              "      <td>9</td>\n",
              "      <td>0</td>\n",
              "      <td>-2.209120</td>\n",
              "    </tr>\n",
              "    <tr>\n",
              "      <th>9</th>\n",
              "      <td>10</td>\n",
              "      <td>1</td>\n",
              "      <td>-2.111941</td>\n",
              "    </tr>\n",
              "    <tr>\n",
              "      <th>10</th>\n",
              "      <td>11</td>\n",
              "      <td>2</td>\n",
              "      <td>-1.970521</td>\n",
              "    </tr>\n",
              "    <tr>\n",
              "      <th>11</th>\n",
              "      <td>12</td>\n",
              "      <td>2</td>\n",
              "      <td>-1.946718</td>\n",
              "    </tr>\n",
              "    <tr>\n",
              "      <th>12</th>\n",
              "      <td>13</td>\n",
              "      <td>1</td>\n",
              "      <td>-1.939905</td>\n",
              "    </tr>\n",
              "    <tr>\n",
              "      <th>13</th>\n",
              "      <td>14</td>\n",
              "      <td>1</td>\n",
              "      <td>-1.814009</td>\n",
              "    </tr>\n",
              "    <tr>\n",
              "      <th>14</th>\n",
              "      <td>15</td>\n",
              "      <td>4</td>\n",
              "      <td>-1.540501</td>\n",
              "    </tr>\n",
              "    <tr>\n",
              "      <th>15</th>\n",
              "      <td>16</td>\n",
              "      <td>1</td>\n",
              "      <td>-1.469813</td>\n",
              "    </tr>\n",
              "    <tr>\n",
              "      <th>16</th>\n",
              "      <td>17</td>\n",
              "      <td>1</td>\n",
              "      <td>-1.445483</td>\n",
              "    </tr>\n",
              "    <tr>\n",
              "      <th>17</th>\n",
              "      <td>18</td>\n",
              "      <td>1</td>\n",
              "      <td>-1.426180</td>\n",
              "    </tr>\n",
              "    <tr>\n",
              "      <th>18</th>\n",
              "      <td>19</td>\n",
              "      <td>1</td>\n",
              "      <td>-1.365794</td>\n",
              "    </tr>\n",
              "    <tr>\n",
              "      <th>19</th>\n",
              "      <td>20</td>\n",
              "      <td>2</td>\n",
              "      <td>-1.292386</td>\n",
              "    </tr>\n",
              "    <tr>\n",
              "      <th>20</th>\n",
              "      <td>21</td>\n",
              "      <td>4</td>\n",
              "      <td>-1.249703</td>\n",
              "    </tr>\n",
              "    <tr>\n",
              "      <th>21</th>\n",
              "      <td>22</td>\n",
              "      <td>2</td>\n",
              "      <td>-1.225750</td>\n",
              "    </tr>\n",
              "    <tr>\n",
              "      <th>22</th>\n",
              "      <td>23</td>\n",
              "      <td>2</td>\n",
              "      <td>-1.200535</td>\n",
              "    </tr>\n",
              "    <tr>\n",
              "      <th>23</th>\n",
              "      <td>24</td>\n",
              "      <td>6</td>\n",
              "      <td>-1.130247</td>\n",
              "    </tr>\n",
              "    <tr>\n",
              "      <th>24</th>\n",
              "      <td>25</td>\n",
              "      <td>2</td>\n",
              "      <td>-1.125926</td>\n",
              "    </tr>\n",
              "    <tr>\n",
              "      <th>25</th>\n",
              "      <td>26</td>\n",
              "      <td>3</td>\n",
              "      <td>-1.026953</td>\n",
              "    </tr>\n",
              "    <tr>\n",
              "      <th>26</th>\n",
              "      <td>27</td>\n",
              "      <td>0</td>\n",
              "      <td>-1.005776</td>\n",
              "    </tr>\n",
              "    <tr>\n",
              "      <th>27</th>\n",
              "      <td>28</td>\n",
              "      <td>3</td>\n",
              "      <td>-0.961188</td>\n",
              "    </tr>\n",
              "    <tr>\n",
              "      <th>28</th>\n",
              "      <td>29</td>\n",
              "      <td>6</td>\n",
              "      <td>-0.878044</td>\n",
              "    </tr>\n",
              "    <tr>\n",
              "      <th>29</th>\n",
              "      <td>30</td>\n",
              "      <td>5</td>\n",
              "      <td>-0.817545</td>\n",
              "    </tr>\n",
              "    <tr>\n",
              "      <th>...</th>\n",
              "      <td>...</td>\n",
              "      <td>...</td>\n",
              "      <td>...</td>\n",
              "    </tr>\n",
              "    <tr>\n",
              "      <th>70</th>\n",
              "      <td>71</td>\n",
              "      <td>8</td>\n",
              "      <td>0.790010</td>\n",
              "    </tr>\n",
              "    <tr>\n",
              "      <th>71</th>\n",
              "      <td>72</td>\n",
              "      <td>7</td>\n",
              "      <td>0.811948</td>\n",
              "    </tr>\n",
              "    <tr>\n",
              "      <th>72</th>\n",
              "      <td>73</td>\n",
              "      <td>8</td>\n",
              "      <td>0.857920</td>\n",
              "    </tr>\n",
              "    <tr>\n",
              "      <th>73</th>\n",
              "      <td>74</td>\n",
              "      <td>6</td>\n",
              "      <td>0.871727</td>\n",
              "    </tr>\n",
              "    <tr>\n",
              "      <th>74</th>\n",
              "      <td>75</td>\n",
              "      <td>8</td>\n",
              "      <td>0.952774</td>\n",
              "    </tr>\n",
              "    <tr>\n",
              "      <th>75</th>\n",
              "      <td>76</td>\n",
              "      <td>8</td>\n",
              "      <td>0.996515</td>\n",
              "    </tr>\n",
              "    <tr>\n",
              "      <th>76</th>\n",
              "      <td>77</td>\n",
              "      <td>8</td>\n",
              "      <td>1.005623</td>\n",
              "    </tr>\n",
              "    <tr>\n",
              "      <th>77</th>\n",
              "      <td>78</td>\n",
              "      <td>9</td>\n",
              "      <td>1.009674</td>\n",
              "    </tr>\n",
              "    <tr>\n",
              "      <th>78</th>\n",
              "      <td>79</td>\n",
              "      <td>9</td>\n",
              "      <td>1.067535</td>\n",
              "    </tr>\n",
              "    <tr>\n",
              "      <th>79</th>\n",
              "      <td>80</td>\n",
              "      <td>8</td>\n",
              "      <td>1.105363</td>\n",
              "    </tr>\n",
              "    <tr>\n",
              "      <th>80</th>\n",
              "      <td>81</td>\n",
              "      <td>9</td>\n",
              "      <td>1.126208</td>\n",
              "    </tr>\n",
              "    <tr>\n",
              "      <th>81</th>\n",
              "      <td>82</td>\n",
              "      <td>7</td>\n",
              "      <td>1.194785</td>\n",
              "    </tr>\n",
              "    <tr>\n",
              "      <th>82</th>\n",
              "      <td>83</td>\n",
              "      <td>8</td>\n",
              "      <td>1.221493</td>\n",
              "    </tr>\n",
              "    <tr>\n",
              "      <th>83</th>\n",
              "      <td>84</td>\n",
              "      <td>7</td>\n",
              "      <td>1.234823</td>\n",
              "    </tr>\n",
              "    <tr>\n",
              "      <th>84</th>\n",
              "      <td>85</td>\n",
              "      <td>7</td>\n",
              "      <td>1.264050</td>\n",
              "    </tr>\n",
              "    <tr>\n",
              "      <th>85</th>\n",
              "      <td>86</td>\n",
              "      <td>8</td>\n",
              "      <td>1.375034</td>\n",
              "    </tr>\n",
              "    <tr>\n",
              "      <th>86</th>\n",
              "      <td>87</td>\n",
              "      <td>8</td>\n",
              "      <td>1.391219</td>\n",
              "    </tr>\n",
              "    <tr>\n",
              "      <th>87</th>\n",
              "      <td>88</td>\n",
              "      <td>9</td>\n",
              "      <td>1.651268</td>\n",
              "    </tr>\n",
              "    <tr>\n",
              "      <th>88</th>\n",
              "      <td>89</td>\n",
              "      <td>8</td>\n",
              "      <td>1.671805</td>\n",
              "    </tr>\n",
              "    <tr>\n",
              "      <th>89</th>\n",
              "      <td>90</td>\n",
              "      <td>9</td>\n",
              "      <td>1.677625</td>\n",
              "    </tr>\n",
              "    <tr>\n",
              "      <th>90</th>\n",
              "      <td>91</td>\n",
              "      <td>9</td>\n",
              "      <td>1.699414</td>\n",
              "    </tr>\n",
              "    <tr>\n",
              "      <th>91</th>\n",
              "      <td>92</td>\n",
              "      <td>9</td>\n",
              "      <td>1.726092</td>\n",
              "    </tr>\n",
              "    <tr>\n",
              "      <th>92</th>\n",
              "      <td>93</td>\n",
              "      <td>8</td>\n",
              "      <td>1.752863</td>\n",
              "    </tr>\n",
              "    <tr>\n",
              "      <th>93</th>\n",
              "      <td>94</td>\n",
              "      <td>7</td>\n",
              "      <td>1.763087</td>\n",
              "    </tr>\n",
              "    <tr>\n",
              "      <th>94</th>\n",
              "      <td>95</td>\n",
              "      <td>6</td>\n",
              "      <td>1.779195</td>\n",
              "    </tr>\n",
              "    <tr>\n",
              "      <th>95</th>\n",
              "      <td>96</td>\n",
              "      <td>8</td>\n",
              "      <td>1.781002</td>\n",
              "    </tr>\n",
              "    <tr>\n",
              "      <th>96</th>\n",
              "      <td>97</td>\n",
              "      <td>8</td>\n",
              "      <td>1.843480</td>\n",
              "    </tr>\n",
              "    <tr>\n",
              "      <th>97</th>\n",
              "      <td>98</td>\n",
              "      <td>9</td>\n",
              "      <td>2.069602</td>\n",
              "    </tr>\n",
              "    <tr>\n",
              "      <th>98</th>\n",
              "      <td>99</td>\n",
              "      <td>10</td>\n",
              "      <td>2.411933</td>\n",
              "    </tr>\n",
              "    <tr>\n",
              "      <th>99</th>\n",
              "      <td>100</td>\n",
              "      <td>10</td>\n",
              "      <td>4.739198</td>\n",
              "    </tr>\n",
              "  </tbody>\n",
              "</table>\n",
              "<p>100 rows × 3 columns</p>\n",
              "</div>"
            ],
            "text/plain": [
              "    plant.ID   y     alpha\n",
              "0          1   0 -4.159582\n",
              "1          2   0 -3.718362\n",
              "2          3   0 -3.069020\n",
              "3          4   0 -3.054211\n",
              "4          5   0 -2.880656\n",
              "5          6   2 -2.705595\n",
              "6          7   1 -2.441703\n",
              "7          8   1 -2.221327\n",
              "8          9   0 -2.209120\n",
              "9         10   1 -2.111941\n",
              "10        11   2 -1.970521\n",
              "11        12   2 -1.946718\n",
              "12        13   1 -1.939905\n",
              "13        14   1 -1.814009\n",
              "14        15   4 -1.540501\n",
              "15        16   1 -1.469813\n",
              "16        17   1 -1.445483\n",
              "17        18   1 -1.426180\n",
              "18        19   1 -1.365794\n",
              "19        20   2 -1.292386\n",
              "20        21   4 -1.249703\n",
              "21        22   2 -1.225750\n",
              "22        23   2 -1.200535\n",
              "23        24   6 -1.130247\n",
              "24        25   2 -1.125926\n",
              "25        26   3 -1.026953\n",
              "26        27   0 -1.005776\n",
              "27        28   3 -0.961188\n",
              "28        29   6 -0.878044\n",
              "29        30   5 -0.817545\n",
              "..       ...  ..       ...\n",
              "70        71   8  0.790010\n",
              "71        72   7  0.811948\n",
              "72        73   8  0.857920\n",
              "73        74   6  0.871727\n",
              "74        75   8  0.952774\n",
              "75        76   8  0.996515\n",
              "76        77   8  1.005623\n",
              "77        78   9  1.009674\n",
              "78        79   9  1.067535\n",
              "79        80   8  1.105363\n",
              "80        81   9  1.126208\n",
              "81        82   7  1.194785\n",
              "82        83   8  1.221493\n",
              "83        84   7  1.234823\n",
              "84        85   7  1.264050\n",
              "85        86   8  1.375034\n",
              "86        87   8  1.391219\n",
              "87        88   9  1.651268\n",
              "88        89   8  1.671805\n",
              "89        90   9  1.677625\n",
              "90        91   9  1.699414\n",
              "91        92   9  1.726092\n",
              "92        93   8  1.752863\n",
              "93        94   7  1.763087\n",
              "94        95   6  1.779195\n",
              "95        96   8  1.781002\n",
              "96        97   8  1.843480\n",
              "97        98   9  2.069602\n",
              "98        99  10  2.411933\n",
              "99       100  10  4.739198\n",
              "\n",
              "[100 rows x 3 columns]"
            ]
          },
          "metadata": {
            "tags": []
          },
          "execution_count": 4
        }
      ]
    },
    {
      "cell_type": "code",
      "metadata": {
        "id": "6t_rW0yHwtrU",
        "colab_type": "code",
        "colab": {}
      },
      "source": [
        "#Extract y columns\n",
        "y = df['y'].values"
      ],
      "execution_count": 0,
      "outputs": []
    },
    {
      "cell_type": "code",
      "metadata": {
        "id": "FcAo5Dhaw_5N",
        "colab_type": "code",
        "colab": {
          "base_uri": "https://localhost:8080/",
          "height": 286
        },
        "outputId": "a8a6dfdf-849c-4407-93ed-71477b574b78"
      },
      "source": [
        "#See Y by histogram\n",
        "df['y'].plot.hist()"
      ],
      "execution_count": 19,
      "outputs": [
        {
          "output_type": "execute_result",
          "data": {
            "text/plain": [
              "<matplotlib.axes._subplots.AxesSubplot at 0x7f789f1a3c18>"
            ]
          },
          "metadata": {
            "tags": []
          },
          "execution_count": 19
        },
        {
          "output_type": "display_data",
          "data": {
            "image/png": "[encoded data removed]",
            "text/plain": [
              "<Figure size 432x288 with 1 Axes>"
            ]
          },
          "metadata": {
            "tags": []
          }
        }
      ]
    },
    {
      "cell_type": "markdown",
      "metadata": {
        "id": "QGHFCwaPsb62",
        "colab_type": "text"
      },
      "source": [
        "## MAP inference"
      ]
    },
    {
      "cell_type": "markdown",
      "metadata": {
        "id": "VZmOVcFuvAfj",
        "colab_type": "text"
      },
      "source": [
        "As the first analysis of above data, we once ignore the difference between each bionts.\n",
        "\n",
        "These means that the likehood function become as following:\n",
        "\n",
        "\\begin{align}\n",
        "p(y_1,\\cdots,y_{100} \\mid q) = \\prod^{100}_{i = 1}p(y_{i}\\mid q)\\ .\n",
        "\\end{align}\n",
        "\n",
        "The maximum likehood estimation for this likehood can be done by following code: "
      ]
    },
    {
      "cell_type": "code",
      "metadata": {
        "id": "5FFVJ6CbxM_P",
        "colab_type": "code",
        "colab": {
          "base_uri": "https://localhost:8080/",
          "height": 104
        },
        "outputId": "92af83e6-4f54-4fc7-b85b-34bcbdf900ed"
      },
      "source": [
        "#Map inference\n",
        "model = pm.Model()\n",
        "with model:\n",
        "    q = pm.Uniform('q', lower = 0, upper = 1)#model variable that correspond to change ratio from ovule to seed\n",
        "    y = pm.Binomial('y', n = 10, p = q, observed = y)#observed variables\n",
        "    map_estimate = pm.find_MAP(model = model)\n",
        "print(map_estimate['q'])"
      ],
      "execution_count": 21,
      "outputs": [
        {
          "output_type": "stream",
          "text": [
            "/usr/local/lib/python3.6/dist-packages/pymc3/tuning/starting.py:61: UserWarning: find_MAP should not be used to initialize the NUTS sampler, simply call pymc3.sample() and it will automatically initialize NUTS in a better way.\n",
            "  warnings.warn('find_MAP should not be used to initialize the NUTS sampler, simply call pymc3.sample() and it will automatically initialize NUTS in a better way.')\n",
            "logp = -316.78, ||grad|| = 4: 100%|██████████| 5/5 [00:00<00:00, 259.79it/s]\n"
          ],
          "name": "stderr"
        },
        {
          "output_type": "stream",
          "text": [
            "0.4960000053023121\n"
          ],
          "name": "stdout"
        }
      ]
    },
    {
      "cell_type": "markdown",
      "metadata": {
        "id": "WKdPkl_5xG7h",
        "colab_type": "text"
      },
      "source": [
        "When we set model variable and observed variables for PyMC3 Model module, we must use 'with model' or `dist()`."
      ]
    },
    {
      "cell_type": "markdown",
      "metadata": {
        "id": "Y_rPl66lxYR4",
        "colab_type": "text"
      },
      "source": [
        "## Prediction which considering difference between biont"
      ]
    },
    {
      "cell_type": "markdown",
      "metadata": {
        "id": "uUIqnHl9xmL7",
        "colab_type": "text"
      },
      "source": [
        "We assume that the change probabilty from ovule to seed by the next sigmoid function:\n",
        "\n",
        "\\begin{align}\n",
        "q_{i} = \\dfrac{1}{1 + \\exp(-(\\beta + \\alpha_{i}))}.\n",
        "\\end{align}\n",
        "\n",
        "Here, $\\beta$ is the varibale that isn't depend on each biont, and $\\alpha_{i}$ is the varibale that is depend on each biont.\n",
        "\n",
        "And asumming that these variables following next prob. distribution(**prior distribution**):\n",
        "\n",
        "\\begin{align}\n",
        "p(\\beta|\\tau_{\\beta}) &= \\mathcal{N}\\Big(\\beta |0, \\frac{1}{\\tau_{\\beta}}\\Big)\\\\\n",
        "p(\\alpha_{i}|\\tau_{\\alpha}) &= \\mathcal{N}\\Big(\\alpha_{i} |0, \\frac{1}{\\tau_{\\alpha}}\\Big)\\\\\n",
        "\\end{align}\n",
        "\n",
        "Because $\\beta$ isn't depend on individual diffenrence, here we set big variance($1/\\tau_{\\beta} = 100$).\n",
        "\n",
        "And for prior distribution for $\\tau_{\\alpha}$, we set\n",
        "\n",
        "\\begin{align}\n",
        "p(\\tau_{\\alpha}\\mid a,b) &= {\\rm Gamma}(\\tau_{a}\\mid a,b)\\\\\n",
        "{\\rm Gamma}(x\\mid a,b) &:= \\dfrac{b^{a}}{\\Gamma(a)}x^{a - 1}\\exp(-bx)\\ .\n",
        "\\end{align}\n",
        "\n",
        "This assumption for $\\tau_{\\alpha}$ means that the model parameter $\\alpha_{i}$ has more deep probabilistic structure.\n",
        "This type of probabilistic model is called that '**Hierarchical Bayes Model**'.\n",
        "\n",
        "The posterior distribution $p(\\alpha,\\beta,\\tau_{\\alpha}|y)$ is calculated as following:\n",
        "\n",
        "\\begin{align}\n",
        "p(\\alpha,\\beta,\\tau_{\\alpha}|y) = \\dfrac{\\prod^{100}_{i=1}p(y_{i}|\\alpha_{i},\\beta)p(\\beta|\\tau_{\\beta})p(\\alpha_{i}|\\tau_{\\alpha})p(\\tau_{\\alpha}|a,b)}{p(y)}\n",
        "\\end{align}\n",
        "\n",
        "Here, \n",
        "\\begin{align}\n",
        "p(y) = \\prod^{100}_{i=1}\\int d\\beta d\\alpha_{i}d\\tau_{\\alpha}p(y_{i}|\\alpha_{i},\\beta)p(\\beta|\\tau_{\\beta})p(\\alpha_{i}|\\tau_{\\alpha})p(\\tau_{\\alpha}|a,b)\n",
        "\\end{align}\n",
        "\n",
        "The implimentation of estimation for above model is written as following:"
      ]
    },
    {
      "cell_type": "code",
      "metadata": {
        "id": "oiwJRYvxxe3I",
        "colab_type": "code",
        "colab": {
          "base_uri": "https://localhost:8080/",
          "height": 154
        },
        "outputId": "6871ebc9-8b28-494a-d7ae-969b479fc9d9"
      },
      "source": [
        "probabilistic_model = pm.Model()\n",
        "with probabilistic_model:\n",
        "    #Set variables\n",
        "    beta = pm.Normal('beta', mu = 0, tau = 1.0e-2)\n",
        "    tau = pm.Gamma('tau',alpha = 1.0e-02, beta=10e-02)\n",
        "    alpha = pm.Normal('alpha', mu = 0, tau = tau, shape = len(df['y'].values))\n",
        "    y_mean = pm.math.sigmoid(beta + alpha)\n",
        "    y = pm.Binomial('y', n = 10, p = y_mean, observed = df['y'])\n",
        "    start = pm.find_MAP()\n",
        "    step = pm.NUTS()\n",
        "    trace = pm.sample(5000, start = start, step=step)"
      ],
      "execution_count": 8,
      "outputs": [
        {
          "output_type": "stream",
          "text": [
            "/usr/local/lib/python3.6/dist-packages/pymc3/tuning/starting.py:61: UserWarning: find_MAP should not be used to initialize the NUTS sampler, simply call pymc3.sample() and it will automatically initialize NUTS in a better way.\n",
            "  warnings.warn('find_MAP should not be used to initialize the NUTS sampler, simply call pymc3.sample() and it will automatically initialize NUTS in a better way.')\n",
            "logp = -161.01, ||grad|| = 0.026637: 100%|██████████| 34/34 [00:00<00:00, 970.52it/s]  \n",
            "Sequential sampling (2 chains in 1 job)\n",
            "NUTS: [alpha, tau, beta]\n",
            "100%|██████████| 5500/5500 [00:13<00:00, 402.09it/s]\n",
            "100%|██████████| 5500/5500 [00:37<00:00, 146.59it/s]\n"
          ],
          "name": "stderr"
        }
      ]
    },
    {
      "cell_type": "markdown",
      "metadata": {
        "id": "wINNBXjQ5ibD",
        "colab_type": "text"
      },
      "source": [
        "Using `.gelman_rubin` method of PyMC3, we can easily check the Gelman_Rubin statistic.\n",
        "\n",
        "From the experience, if Gelman_Rubin statistic is less than 1.1, the convergence is no problem."
      ]
    },
    {
      "cell_type": "code",
      "metadata": {
        "id": "M0rj5RDI5T6D",
        "colab_type": "code",
        "colab": {
          "base_uri": "https://localhost:8080/",
          "height": 386
        },
        "outputId": "48ca105d-1e43-4653-d9fb-0d377463f64a"
      },
      "source": [
        "#Chack Convergence\n",
        "pm.gelman_rubin(trace)"
      ],
      "execution_count": 12,
      "outputs": [
        {
          "output_type": "execute_result",
          "data": {
            "text/plain": [
              "{'alpha': array([0.99990022, 0.99999403, 0.99994695, 0.99998467, 0.99990009,\n",
              "        1.0000488 , 0.999905  , 0.99993064, 1.00008394, 0.99999192,\n",
              "        0.9999496 , 0.99993905, 0.99995144, 1.00038429, 0.99990392,\n",
              "        0.99996478, 0.99996397, 0.99990909, 0.99991001, 1.00003148,\n",
              "        0.9999413 , 0.99990243, 0.99994062, 0.99994014, 0.99991629,\n",
              "        0.99993034, 0.99990138, 0.99990265, 0.99991724, 0.9999002 ,\n",
              "        0.99998332, 0.99990473, 0.99995782, 1.00000752, 0.9999314 ,\n",
              "        1.00007181, 1.00006213, 1.0001123 , 0.99990788, 0.99990397,\n",
              "        1.00031629, 1.00011583, 0.99990698, 1.00029329, 0.99990297,\n",
              "        0.99991302, 0.99993225, 1.00003579, 1.00062708, 1.00009787,\n",
              "        0.99991756, 0.99990505, 0.99997799, 0.99994236, 0.99992097,\n",
              "        0.99992801, 0.99990238, 0.99994867, 0.99990017, 0.99992028,\n",
              "        0.99993263, 0.9999002 , 1.0002077 , 0.99996906, 1.00025813,\n",
              "        0.9999    , 0.9999    , 0.99990056, 0.9999747 , 0.99991257,\n",
              "        1.00011089, 0.99991108, 0.99990005, 1.00013962, 0.99992772,\n",
              "        1.00002599, 0.99993073, 0.99993933, 0.99995506, 0.99995148,\n",
              "        1.00000797, 0.99991326, 0.999923  , 0.99991464, 0.99990837,\n",
              "        1.00019597, 1.00002992, 0.99990563, 1.00000717, 0.99999783,\n",
              "        0.99994159, 0.99994098, 1.00003808, 0.9999333 , 0.99993768,\n",
              "        0.99998196, 0.99990564, 1.00020335, 1.00003878, 0.99990896]),\n",
              " 'beta': 0.9999870211073794,\n",
              " 'tau': 0.9999525004022584}"
            ]
          },
          "metadata": {
            "tags": []
          },
          "execution_count": 12
        }
      ]
    },
    {
      "cell_type": "markdown",
      "metadata": {
        "id": "9dk8ITIb6bBc",
        "colab_type": "text"
      },
      "source": [
        "## Posterior Distribution Calculation"
      ]
    },
    {
      "cell_type": "code",
      "metadata": {
        "id": "Q-ZrHcMw6eo0",
        "colab_type": "code",
        "colab": {}
      },
      "source": [
        ""
      ],
      "execution_count": 0,
      "outputs": []
    }
  ]
}